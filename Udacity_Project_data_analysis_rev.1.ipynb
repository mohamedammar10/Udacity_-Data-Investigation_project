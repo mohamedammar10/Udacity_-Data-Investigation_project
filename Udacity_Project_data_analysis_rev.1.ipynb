{
 "cells": [
  {
   "cell_type": "markdown",
   "metadata": {},
   "source": [
    "\n",
    "# Project: Investigate a Dataset (TMDB movie dataset)\n",
    "\n",
    "## Table of Contents\n",
    "<ul>\n",
    "<li><a href=\"#intro\">Introduction</a></li>\n",
    "<li><a href=\"#wrangling\">Data Wrangling</a></li>\n",
    "<li><a href=\"#eda\">Exploratory Data Analysis</a></li>\n",
    "<li><a href=\"#conclusions\">Conclusions</a></li>\n",
    "</ul>"
   ]
  },
  {
   "cell_type": "markdown",
   "metadata": {},
   "source": [
    "<a id='intro'></a>\n",
    "## Introduction\n",
    "\n",
    "This data set contains information about 10,000 movies collected from The Movie Database (TMDb), including user ratings and revenue.\n",
    "\n",
    "I analysed the Dataset and tried to answer the folowing questions through this notebook:-\n",
    "\n",
    "1-Which year has the highest release of movies?\n",
    "\n",
    "2-Top 10 movies which earn highest/Lowest profit?\n",
    "\n",
    "3-Movie with Highest And Lowest Budget?\n",
    "\n",
    "4-Which movie made the highest revenue and lowest as well?\n",
    "\n",
    "5-Movie with shorest and longest runtime?\n",
    "\n",
    "6-Which movie get the highest or lowest votes (Ratings).\n",
    "\n",
    "7-which year has the highest release of movies?\n",
    "\n",
    "8-Find Top 20 actors with the most appearances in films\n",
    "\n",
    "\n"
   ]
  },
  {
   "cell_type": "code",
   "execution_count": 129,
   "metadata": {},
   "outputs": [],
   "source": [
    "# importing built-in Function for my analysis\n",
    "import numpy as np\n",
    "import operator\n",
    "import pandas as pd\n",
    "import matplotlib.pyplot as plt\n",
    "import seaborn as sns\n"
   ]
  },
  {
   "cell_type": "code",
   "execution_count": 45,
   "metadata": {},
   "outputs": [
    {
     "data": {
      "text/html": [
       "<div>\n",
       "<style scoped>\n",
       "    .dataframe tbody tr th:only-of-type {\n",
       "        vertical-align: middle;\n",
       "    }\n",
       "\n",
       "    .dataframe tbody tr th {\n",
       "        vertical-align: top;\n",
       "    }\n",
       "\n",
       "    .dataframe thead th {\n",
       "        text-align: right;\n",
       "    }\n",
       "</style>\n",
       "<table border=\"1\" class=\"dataframe\">\n",
       "  <thead>\n",
       "    <tr style=\"text-align: right;\">\n",
       "      <th></th>\n",
       "      <th>id</th>\n",
       "      <th>imdb_id</th>\n",
       "      <th>popularity</th>\n",
       "      <th>budget</th>\n",
       "      <th>revenue</th>\n",
       "      <th>original_title</th>\n",
       "      <th>cast</th>\n",
       "      <th>homepage</th>\n",
       "      <th>director</th>\n",
       "      <th>tagline</th>\n",
       "      <th>...</th>\n",
       "      <th>overview</th>\n",
       "      <th>runtime</th>\n",
       "      <th>genres</th>\n",
       "      <th>production_companies</th>\n",
       "      <th>release_date</th>\n",
       "      <th>vote_count</th>\n",
       "      <th>vote_average</th>\n",
       "      <th>release_year</th>\n",
       "      <th>budget_adj</th>\n",
       "      <th>revenue_adj</th>\n",
       "    </tr>\n",
       "  </thead>\n",
       "  <tbody>\n",
       "    <tr>\n",
       "      <th>0</th>\n",
       "      <td>135397</td>\n",
       "      <td>tt0369610</td>\n",
       "      <td>32.985763</td>\n",
       "      <td>150000000</td>\n",
       "      <td>1513528810</td>\n",
       "      <td>Jurassic World</td>\n",
       "      <td>Chris Pratt|Bryce Dallas Howard|Irrfan Khan|Vi...</td>\n",
       "      <td>http://www.jurassicworld.com/</td>\n",
       "      <td>Colin Trevorrow</td>\n",
       "      <td>The park is open.</td>\n",
       "      <td>...</td>\n",
       "      <td>Twenty-two years after the events of Jurassic ...</td>\n",
       "      <td>124</td>\n",
       "      <td>Action|Adventure|Science Fiction|Thriller</td>\n",
       "      <td>Universal Studios|Amblin Entertainment|Legenda...</td>\n",
       "      <td>6/9/15</td>\n",
       "      <td>5562</td>\n",
       "      <td>6.5</td>\n",
       "      <td>2015</td>\n",
       "      <td>1.379999e+08</td>\n",
       "      <td>1.392446e+09</td>\n",
       "    </tr>\n",
       "    <tr>\n",
       "      <th>1</th>\n",
       "      <td>76341</td>\n",
       "      <td>tt1392190</td>\n",
       "      <td>28.419936</td>\n",
       "      <td>150000000</td>\n",
       "      <td>378436354</td>\n",
       "      <td>Mad Max: Fury Road</td>\n",
       "      <td>Tom Hardy|Charlize Theron|Hugh Keays-Byrne|Nic...</td>\n",
       "      <td>http://www.madmaxmovie.com/</td>\n",
       "      <td>George Miller</td>\n",
       "      <td>What a Lovely Day.</td>\n",
       "      <td>...</td>\n",
       "      <td>An apocalyptic story set in the furthest reach...</td>\n",
       "      <td>120</td>\n",
       "      <td>Action|Adventure|Science Fiction|Thriller</td>\n",
       "      <td>Village Roadshow Pictures|Kennedy Miller Produ...</td>\n",
       "      <td>5/13/15</td>\n",
       "      <td>6185</td>\n",
       "      <td>7.1</td>\n",
       "      <td>2015</td>\n",
       "      <td>1.379999e+08</td>\n",
       "      <td>3.481613e+08</td>\n",
       "    </tr>\n",
       "  </tbody>\n",
       "</table>\n",
       "<p>2 rows × 21 columns</p>\n",
       "</div>"
      ],
      "text/plain": [
       "       id    imdb_id  popularity     budget     revenue      original_title  \\\n",
       "0  135397  tt0369610   32.985763  150000000  1513528810      Jurassic World   \n",
       "1   76341  tt1392190   28.419936  150000000   378436354  Mad Max: Fury Road   \n",
       "\n",
       "                                                cast  \\\n",
       "0  Chris Pratt|Bryce Dallas Howard|Irrfan Khan|Vi...   \n",
       "1  Tom Hardy|Charlize Theron|Hugh Keays-Byrne|Nic...   \n",
       "\n",
       "                        homepage         director             tagline  ...  \\\n",
       "0  http://www.jurassicworld.com/  Colin Trevorrow   The park is open.  ...   \n",
       "1    http://www.madmaxmovie.com/    George Miller  What a Lovely Day.  ...   \n",
       "\n",
       "                                            overview runtime  \\\n",
       "0  Twenty-two years after the events of Jurassic ...     124   \n",
       "1  An apocalyptic story set in the furthest reach...     120   \n",
       "\n",
       "                                      genres  \\\n",
       "0  Action|Adventure|Science Fiction|Thriller   \n",
       "1  Action|Adventure|Science Fiction|Thriller   \n",
       "\n",
       "                                production_companies release_date vote_count  \\\n",
       "0  Universal Studios|Amblin Entertainment|Legenda...       6/9/15       5562   \n",
       "1  Village Roadshow Pictures|Kennedy Miller Produ...      5/13/15       6185   \n",
       "\n",
       "   vote_average  release_year    budget_adj   revenue_adj  \n",
       "0           6.5          2015  1.379999e+08  1.392446e+09  \n",
       "1           7.1          2015  1.379999e+08  3.481613e+08  \n",
       "\n",
       "[2 rows x 21 columns]"
      ]
     },
     "execution_count": 45,
     "metadata": {},
     "output_type": "execute_result"
    }
   ],
   "source": [
    "#import data to notebook\n",
    "df = pd.read_csv('tmdb_movies.csv')\n",
    "df.head(2)"
   ]
  },
  {
   "cell_type": "code",
   "execution_count": 46,
   "metadata": {
    "scrolled": true
   },
   "outputs": [
    {
     "name": "stdout",
     "output_type": "stream",
     "text": [
      "<class 'pandas.core.frame.DataFrame'>\n",
      "RangeIndex: 10866 entries, 0 to 10865\n",
      "Data columns (total 21 columns):\n",
      " #   Column                Non-Null Count  Dtype  \n",
      "---  ------                --------------  -----  \n",
      " 0   id                    10866 non-null  int64  \n",
      " 1   imdb_id               10856 non-null  object \n",
      " 2   popularity            10866 non-null  float64\n",
      " 3   budget                10866 non-null  int64  \n",
      " 4   revenue               10866 non-null  int64  \n",
      " 5   original_title        10866 non-null  object \n",
      " 6   cast                  10790 non-null  object \n",
      " 7   homepage              2936 non-null   object \n",
      " 8   director              10822 non-null  object \n",
      " 9   tagline               8042 non-null   object \n",
      " 10  keywords              9373 non-null   object \n",
      " 11  overview              10862 non-null  object \n",
      " 12  runtime               10866 non-null  int64  \n",
      " 13  genres                10843 non-null  object \n",
      " 14  production_companies  9836 non-null   object \n",
      " 15  release_date          10866 non-null  object \n",
      " 16  vote_count            10866 non-null  int64  \n",
      " 17  vote_average          10866 non-null  float64\n",
      " 18  release_year          10866 non-null  int64  \n",
      " 19  budget_adj            10866 non-null  float64\n",
      " 20  revenue_adj           10866 non-null  float64\n",
      "dtypes: float64(4), int64(6), object(11)\n",
      "memory usage: 1.7+ MB\n"
     ]
    }
   ],
   "source": [
    "#data_info\n",
    "df.info()"
   ]
  },
  {
   "cell_type": "markdown",
   "metadata": {},
   "source": [
    "<a id='wrangling'></a>\n",
    "## Data Wrangling\n",
    "\n",
    "\n",
    "### General Properties"
   ]
  },
  {
   "cell_type": "code",
   "execution_count": 47,
   "metadata": {},
   "outputs": [
    {
     "name": "stdout",
     "output_type": "stream",
     "text": [
      "<class 'pandas.core.frame.DataFrame'>\n",
      "Int64Index: 10865 entries, 0 to 10865\n",
      "Data columns (total 21 columns):\n",
      " #   Column                Non-Null Count  Dtype  \n",
      "---  ------                --------------  -----  \n",
      " 0   id                    10865 non-null  int64  \n",
      " 1   imdb_id               10855 non-null  object \n",
      " 2   popularity            10865 non-null  float64\n",
      " 3   budget                10865 non-null  int64  \n",
      " 4   revenue               10865 non-null  int64  \n",
      " 5   original_title        10865 non-null  object \n",
      " 6   cast                  10789 non-null  object \n",
      " 7   homepage              2936 non-null   object \n",
      " 8   director              10821 non-null  object \n",
      " 9   tagline               8041 non-null   object \n",
      " 10  keywords              9372 non-null   object \n",
      " 11  overview              10861 non-null  object \n",
      " 12  runtime               10865 non-null  int64  \n",
      " 13  genres                10842 non-null  object \n",
      " 14  production_companies  9835 non-null   object \n",
      " 15  release_date          10865 non-null  object \n",
      " 16  vote_count            10865 non-null  int64  \n",
      " 17  vote_average          10865 non-null  float64\n",
      " 18  release_year          10865 non-null  int64  \n",
      " 19  budget_adj            10865 non-null  float64\n",
      " 20  revenue_adj           10865 non-null  float64\n",
      "dtypes: float64(4), int64(6), object(11)\n",
      "memory usage: 1.8+ MB\n"
     ]
    }
   ],
   "source": [
    "#data contains 10866 sample films \n",
    "\n",
    "# First Cleaning Step is to check for rows duplicates.\n",
    "\n",
    "# checking for dulpicates rows\n",
    "sum(df.duplicated())\n",
    "df.drop_duplicates(inplace=True)\n",
    "df.info()# 1 item dropped Out"
   ]
  },
  {
   "cell_type": "code",
   "execution_count": 48,
   "metadata": {},
   "outputs": [
    {
     "name": "stdout",
     "output_type": "stream",
     "text": [
      "76\n",
      "7929\n",
      "44\n",
      "2824\n",
      "1493\n",
      "4\n",
      "23\n",
      "1030\n"
     ]
    }
   ],
   "source": [
    "#the data information shows that missing values are in columns\n",
    "#['cast','homepage','director','tagline','keywords','overview','genres','production_companies']\n",
    "\n",
    "Missing_val=['cast','homepage','director','tagline','keywords','overview','genres','production_companies']\n",
    "Missing_val_res=[]\n",
    "#counting the total number of rows with at least one missing data.any(axis = 1)\n",
    "for i in Missing_val:\n",
    "    Missing_val=df[i].isnull().sum()\n",
    "    print(Missing_val)\n"
   ]
  },
  {
   "cell_type": "code",
   "execution_count": 49,
   "metadata": {},
   "outputs": [],
   "source": [
    "# Missing data are strings type, unique for each sample cannot be replaced by any statistical calculation \n",
    "#such as mean and mode values to preserve the data credibility and consistency.\n",
    "\n",
    "# my first assumption is to delete columns with Missing data not included in my queries \n",
    "#['homepage','tagline','keywords','overview']\n",
    "\n",
    "# my second assumption is to delete 'revenue','budget' columns as both of them are included adjusted by the dataset owner\n",
    "#in another columns name 'budget_adj','revenue_adj'\n",
    "df.drop(['homepage','tagline','keywords','overview','revenue','budget'], axis=1, inplace=True)"
   ]
  },
  {
   "cell_type": "code",
   "execution_count": 50,
   "metadata": {},
   "outputs": [
    {
     "data": {
      "text/plain": [
       "(10865, 15)"
      ]
     },
     "execution_count": 50,
     "metadata": {},
     "output_type": "execute_result"
    }
   ],
   "source": [
    "# I eleminated 7 columns out of 21\n",
    "df.shape"
   ]
  },
  {
   "cell_type": "code",
   "execution_count": 51,
   "metadata": {},
   "outputs": [
    {
     "name": "stdout",
     "output_type": "stream",
     "text": [
      "<class 'pandas.core.frame.DataFrame'>\n",
      "Int64Index: 40 entries, 536 to 10754\n",
      "Data columns (total 15 columns):\n",
      " #   Column                Non-Null Count  Dtype  \n",
      "---  ------                --------------  -----  \n",
      " 0   id                    40 non-null     int64  \n",
      " 1   imdb_id               40 non-null     object \n",
      " 2   popularity            40 non-null     float64\n",
      " 3   original_title        40 non-null     object \n",
      " 4   cast                  0 non-null      object \n",
      " 5   director              35 non-null     object \n",
      " 6   runtime               40 non-null     int64  \n",
      " 7   genres                40 non-null     object \n",
      " 8   production_companies  0 non-null      object \n",
      " 9   release_date          40 non-null     object \n",
      " 10  vote_count            40 non-null     int64  \n",
      " 11  vote_average          40 non-null     float64\n",
      " 12  release_year          40 non-null     int64  \n",
      " 13  budget_adj            40 non-null     float64\n",
      " 14  revenue_adj           40 non-null     float64\n",
      "dtypes: float64(4), int64(4), object(7)\n",
      "memory usage: 5.0+ KB\n"
     ]
    }
   ],
   "source": [
    "# Second Cleaning Step is to check for columns with null values and calculates their quantities.\n",
    "# Data contaings Null values in differeny columns \n",
    "# My strategy was to start by elimanting columns with high percentage of NULL values\n",
    "# to maintain the data sample as large as possible.\n",
    "\n",
    "# show only cloumns with NaN values for both production and cast columns\n",
    "\n",
    "null_data = df[df['production_companies'].isnull() & df['cast'].isnull()]\n",
    "null_data.info()"
   ]
  },
  {
   "cell_type": "code",
   "execution_count": 52,
   "metadata": {},
   "outputs": [],
   "source": [
    "# 3rd Assumption is to drop all rows where production company value is null. \n",
    "df=df.dropna(subset=['production_companies'])"
   ]
  },
  {
   "cell_type": "code",
   "execution_count": 53,
   "metadata": {},
   "outputs": [],
   "source": [
    "# dropn all rows where genres values are null. \n",
    "df=df.dropna(subset=['genres'])"
   ]
  },
  {
   "cell_type": "code",
   "execution_count": 54,
   "metadata": {},
   "outputs": [],
   "source": [
    "# dropn all rows where cast value are null. \n",
    "df=df.dropna(subset=['cast'])"
   ]
  },
  {
   "cell_type": "code",
   "execution_count": 55,
   "metadata": {},
   "outputs": [],
   "source": [
    "# dropn all rows where director values are null. \n",
    "df=df.dropna(subset=['director'])"
   ]
  },
  {
   "cell_type": "code",
   "execution_count": 56,
   "metadata": {},
   "outputs": [],
   "source": [
    "# dropn all rows where imdb_id values are null. \n",
    "df=df.dropna(subset=['imdb_id'])"
   ]
  },
  {
   "cell_type": "code",
   "execution_count": 61,
   "metadata": {},
   "outputs": [],
   "source": [
    "# adjust names for columns\n",
    "df = df.rename(columns={'revenue_adj': 'revenue', 'budget_adj': 'budget'})"
   ]
  },
  {
   "cell_type": "code",
   "execution_count": 62,
   "metadata": {},
   "outputs": [
    {
     "name": "stdout",
     "output_type": "stream",
     "text": [
      "<class 'pandas.core.frame.DataFrame'>\n",
      "Int64Index: 9770 entries, 0 to 10865\n",
      "Data columns (total 15 columns):\n",
      " #   Column                Non-Null Count  Dtype  \n",
      "---  ------                --------------  -----  \n",
      " 0   id                    9770 non-null   int64  \n",
      " 1   imdb_id               9770 non-null   object \n",
      " 2   popularity            9770 non-null   float64\n",
      " 3   original_title        9770 non-null   object \n",
      " 4   cast                  9770 non-null   object \n",
      " 5   director              9770 non-null   object \n",
      " 6   runtime               9770 non-null   int64  \n",
      " 7   genres                9770 non-null   object \n",
      " 8   production_companies  9770 non-null   object \n",
      " 9   release_date          9770 non-null   object \n",
      " 10  vote_count            9770 non-null   int64  \n",
      " 11  vote_average          9770 non-null   float64\n",
      " 12  release_year          9770 non-null   int64  \n",
      " 13  budget                9770 non-null   float64\n",
      " 14  revenue               9770 non-null   float64\n",
      "dtypes: float64(4), int64(4), object(7)\n",
      "memory usage: 1.2+ MB\n"
     ]
    }
   ],
   "source": [
    "\n",
    "df.info()"
   ]
  },
  {
   "cell_type": "code",
   "execution_count": 63,
   "metadata": {},
   "outputs": [
    {
     "data": {
      "text/html": [
       "<div>\n",
       "<style scoped>\n",
       "    .dataframe tbody tr th:only-of-type {\n",
       "        vertical-align: middle;\n",
       "    }\n",
       "\n",
       "    .dataframe tbody tr th {\n",
       "        vertical-align: top;\n",
       "    }\n",
       "\n",
       "    .dataframe thead th {\n",
       "        text-align: right;\n",
       "    }\n",
       "</style>\n",
       "<table border=\"1\" class=\"dataframe\">\n",
       "  <thead>\n",
       "    <tr style=\"text-align: right;\">\n",
       "      <th></th>\n",
       "      <th>id</th>\n",
       "      <th>imdb_id</th>\n",
       "      <th>popularity</th>\n",
       "      <th>original_title</th>\n",
       "      <th>cast</th>\n",
       "      <th>director</th>\n",
       "      <th>runtime</th>\n",
       "      <th>genres</th>\n",
       "      <th>production_companies</th>\n",
       "      <th>release_date</th>\n",
       "      <th>vote_count</th>\n",
       "      <th>vote_average</th>\n",
       "      <th>release_year</th>\n",
       "      <th>budget</th>\n",
       "      <th>revenue</th>\n",
       "    </tr>\n",
       "  </thead>\n",
       "  <tbody>\n",
       "    <tr>\n",
       "      <th>0</th>\n",
       "      <td>135397</td>\n",
       "      <td>tt0369610</td>\n",
       "      <td>32.985763</td>\n",
       "      <td>Jurassic World</td>\n",
       "      <td>Chris Pratt|Bryce Dallas Howard|Irrfan Khan|Vi...</td>\n",
       "      <td>Colin Trevorrow</td>\n",
       "      <td>124</td>\n",
       "      <td>Action|Adventure|Science Fiction|Thriller</td>\n",
       "      <td>Universal Studios|Amblin Entertainment|Legenda...</td>\n",
       "      <td>6/9/15</td>\n",
       "      <td>5562</td>\n",
       "      <td>6.5</td>\n",
       "      <td>2015</td>\n",
       "      <td>1.379999e+08</td>\n",
       "      <td>1.392446e+09</td>\n",
       "    </tr>\n",
       "    <tr>\n",
       "      <th>1</th>\n",
       "      <td>76341</td>\n",
       "      <td>tt1392190</td>\n",
       "      <td>28.419936</td>\n",
       "      <td>Mad Max: Fury Road</td>\n",
       "      <td>Tom Hardy|Charlize Theron|Hugh Keays-Byrne|Nic...</td>\n",
       "      <td>George Miller</td>\n",
       "      <td>120</td>\n",
       "      <td>Action|Adventure|Science Fiction|Thriller</td>\n",
       "      <td>Village Roadshow Pictures|Kennedy Miller Produ...</td>\n",
       "      <td>5/13/15</td>\n",
       "      <td>6185</td>\n",
       "      <td>7.1</td>\n",
       "      <td>2015</td>\n",
       "      <td>1.379999e+08</td>\n",
       "      <td>3.481613e+08</td>\n",
       "    </tr>\n",
       "  </tbody>\n",
       "</table>\n",
       "</div>"
      ],
      "text/plain": [
       "       id    imdb_id  popularity      original_title  \\\n",
       "0  135397  tt0369610   32.985763      Jurassic World   \n",
       "1   76341  tt1392190   28.419936  Mad Max: Fury Road   \n",
       "\n",
       "                                                cast         director  \\\n",
       "0  Chris Pratt|Bryce Dallas Howard|Irrfan Khan|Vi...  Colin Trevorrow   \n",
       "1  Tom Hardy|Charlize Theron|Hugh Keays-Byrne|Nic...    George Miller   \n",
       "\n",
       "   runtime                                     genres  \\\n",
       "0      124  Action|Adventure|Science Fiction|Thriller   \n",
       "1      120  Action|Adventure|Science Fiction|Thriller   \n",
       "\n",
       "                                production_companies release_date  vote_count  \\\n",
       "0  Universal Studios|Amblin Entertainment|Legenda...       6/9/15        5562   \n",
       "1  Village Roadshow Pictures|Kennedy Miller Produ...      5/13/15        6185   \n",
       "\n",
       "   vote_average  release_year        budget       revenue  \n",
       "0           6.5          2015  1.379999e+08  1.392446e+09  \n",
       "1           7.1          2015  1.379999e+08  3.481613e+08  "
      ]
     },
     "execution_count": 63,
     "metadata": {},
     "output_type": "execute_result"
    }
   ],
   "source": [
    "df.head(2)"
   ]
  },
  {
   "cell_type": "code",
   "execution_count": 64,
   "metadata": {},
   "outputs": [
    {
     "data": {
      "text/plain": [
       "(9770, 15)"
      ]
     },
     "execution_count": 64,
     "metadata": {},
     "output_type": "execute_result"
    }
   ],
   "source": [
    "\n",
    "df.shape"
   ]
  },
  {
   "cell_type": "code",
   "execution_count": 65,
   "metadata": {},
   "outputs": [
    {
     "data": {
      "text/plain": [
       "['id',\n",
       " 'imdb_id',\n",
       " 'popularity',\n",
       " 'original_title',\n",
       " 'cast',\n",
       " 'director',\n",
       " 'runtime',\n",
       " 'genres',\n",
       " 'production_companies',\n",
       " 'release_date',\n",
       " 'vote_count',\n",
       " 'vote_average',\n",
       " 'release_year',\n",
       " 'budget',\n",
       " 'revenue']"
      ]
     },
     "execution_count": 65,
     "metadata": {},
     "output_type": "execute_result"
    }
   ],
   "source": [
    "#show column names\n",
    "list(df.columns)"
   ]
  },
  {
   "cell_type": "code",
   "execution_count": 66,
   "metadata": {},
   "outputs": [
    {
     "data": {
      "text/plain": [
       "id                      9770\n",
       "imdb_id                 9770\n",
       "popularity              9770\n",
       "original_title          9770\n",
       "cast                    9770\n",
       "director                9770\n",
       "runtime                 9757\n",
       "genres                  9770\n",
       "production_companies    9770\n",
       "release_date            9770\n",
       "vote_count              9770\n",
       "vote_average            9770\n",
       "release_year            9770\n",
       "budget                  5021\n",
       "revenue                 4750\n",
       "dtype: int64"
      ]
     },
     "execution_count": 66,
     "metadata": {},
     "output_type": "execute_result"
    }
   ],
   "source": [
    "# Last cleaning step is to check for zero values in data.(only for float ot integer dtype columns)\n",
    "df.astype(bool).sum(axis=0)\n",
    "\n",
    "# budget has 5021 zero values\n",
    "# revenue has 4750 zero values\n"
   ]
  },
  {
   "cell_type": "code",
   "execution_count": 105,
   "metadata": {},
   "outputs": [
    {
     "name": "stdout",
     "output_type": "stream",
     "text": [
      "28859618.41804646 86385669.6322604 103.07658290109573\n"
     ]
    }
   ],
   "source": [
    "# 4th assumption is to replace budget zero values by budget column mean value\n",
    "#---------------------------------------------------------------------------------\n",
    "\n",
    "mean_bud = df['budget'].mean()\n",
    "# 5 th assumption is to replace revenue zero values by revenue column mean value\n",
    "#----------------------------------------------------------------------------------\n",
    "mean_rev = df['revenue'].mean()\n",
    "# 6 th assumption is to replace runtime zero values by runtime column mean value\n",
    "#----------------------------------------------------------------------------------\n",
    "mean_rtime = df['runtime'].mean()\n",
    "print(mean_bud,mean_rev,mean_rtime)\n",
    "df['budget']=df['budget'].replace(0,mean_bud)\n",
    "df['revenue']=df['revenue'].replace(0,mean_rev)\n",
    "df['runtime']=df['runtime'].replace(0,mean_rtime)"
   ]
  },
  {
   "cell_type": "code",
   "execution_count": 106,
   "metadata": {},
   "outputs": [
    {
     "data": {
      "text/plain": [
       "id                      9770\n",
       "imdb_id                 9770\n",
       "popularity              9770\n",
       "original_title          9770\n",
       "cast                    9770\n",
       "director                9770\n",
       "runtime                 9770\n",
       "genres                  9770\n",
       "production_companies    9770\n",
       "release_date            9770\n",
       "vote_count              9770\n",
       "vote_average            9770\n",
       "release_year            9770\n",
       "budget                  9770\n",
       "revenue                 9770\n",
       "dtype: int64"
      ]
     },
     "execution_count": 106,
     "metadata": {},
     "output_type": "execute_result"
    }
   ],
   "source": [
    "# check zero value for the dataframe\n",
    "df.astype(bool).sum(axis=0)"
   ]
  },
  {
   "cell_type": "code",
   "execution_count": null,
   "metadata": {},
   "outputs": [],
   "source": [
    "# data is now clean, complete and we can start the investigation.\n",
    "# Data finally consisit of:-\n",
    "#9770 rows out of 10865 \n",
    "#15 column out of 21"
   ]
  },
  {
   "cell_type": "markdown",
   "metadata": {},
   "source": [
    "<a id='eda'></a>\n",
    "## Exploratory Data Analysis\n",
    "\n",
    "\n",
    "\n",
    "### Question # 1: Which year has the highest release of movies?"
   ]
  },
  {
   "cell_type": "code",
   "execution_count": 107,
   "metadata": {
    "scrolled": true
   },
   "outputs": [
    {
     "data": {
      "text/plain": [
       "release_year\n",
       "2014    635\n",
       "2013    567\n",
       "2015    558\n",
       "2012    498\n",
       "2009    472\n",
       "2011    456\n",
       "2008    441\n",
       "2010    420\n",
       "2007    389\n",
       "2006    350\n",
       "Name: original_title, dtype: int64"
      ]
     },
     "execution_count": 107,
     "metadata": {},
     "output_type": "execute_result"
    }
   ],
   "source": [
    "# Use this, and more code cells, to explore your data. Don't forget to add\n",
    "#   Markdown cells to document your observations and findings.\n",
    "# \n",
    "df_high_rel=df.groupby(['release_year']).count().sort_values(['original_title'],ascending=False)['original_title']\n",
    "# It can be seen from the results that year 2014 was the highest_release year.\n",
    "df_high_rel.head(10)"
   ]
  },
  {
   "cell_type": "code",
   "execution_count": null,
   "metadata": {},
   "outputs": [],
   "source": []
  },
  {
   "cell_type": "markdown",
   "metadata": {},
   "source": [
    "###  Question # 2:\n",
    "###  Top 10 movies which earn Lowest profit? AND TOP 10 movies which earn highest profit?"
   ]
  },
  {
   "cell_type": "code",
   "execution_count": 108,
   "metadata": {},
   "outputs": [
    {
     "name": "stdout",
     "output_type": "stream",
     "text": [
      "\n",
      " Top_10\n",
      "\n",
      "------------------------------\n",
      "                       original_title        Profit\n",
      "1329                        Star Wars  2.750137e+09\n",
      "1386                           Avatar  2.586237e+09\n",
      "5231                          Titanic  2.234714e+09\n",
      "10594                    The Exorcist  2.128036e+09\n",
      "9806                             Jaws  1.878643e+09\n",
      "8889       E.T. the Extra-Terrestrial  1.767968e+09\n",
      "3        Star Wars: The Force Awakens  1.718723e+09\n",
      "8094                          The Net  1.551568e+09\n",
      "10110  One Hundred and One Dalmatians  1.545635e+09\n",
      "7309          The Empire Strikes Back  1.376998e+09\n",
      "\n",
      " Lowest_10\n",
      "\n",
      "------------------------------\n",
      "                    original_title        Profit\n",
      "2244             The Warrior's Way -4.139124e+08\n",
      "5508               The Lone Ranger -1.551102e+08\n",
      "7031                     The Alamo -1.375868e+08\n",
      "2435              The 13th Warrior -1.286813e+08\n",
      "4970                  Brother Bear -1.185350e+08\n",
      "8102              Cutthroat Island -1.137371e+08\n",
      "4078  The Adventures of Pluto Nash -1.126143e+08\n",
      "3484               Mars Needs Moms -1.076102e+08\n",
      "7332                 Heaven's Gate -1.072059e+08\n",
      "8765                     Supernova -9.518961e+07\n"
     ]
    }
   ],
   "source": [
    "# profit=revenue-budget\n",
    "#we need to create a new column name profit\n",
    "df['Profit']=df['revenue']-df['budget']\n",
    "# sort by top 10\n",
    "print('\\n Top_10\\n')\n",
    "print('-'*30)\n",
    "top_10= df.sort_values(['Profit'],ascending=False)\n",
    "top_10=top_10[['original_title','Profit']]\n",
    "print(top_10.head(10))\n",
    "# sort by Lowest 10\n",
    "print('\\n Lowest_10\\n')\n",
    "print('-'*30)\n",
    "Lowest_10= df.sort_values(['Profit'],ascending=True)\n",
    "Lowest_10=Lowest_10[['original_title','Profit']]\n",
    "#show results\n",
    "print(Lowest_10.head(10))\n",
    "#df.info()\n"
   ]
  },
  {
   "cell_type": "markdown",
   "metadata": {},
   "source": [
    "###  Question # 3:"
   ]
  },
  {
   "cell_type": "markdown",
   "metadata": {},
   "source": [
    "###  Movie with Highest And Lowest Budget? "
   ]
  },
  {
   "cell_type": "code",
   "execution_count": 109,
   "metadata": {},
   "outputs": [
    {
     "name": "stdout",
     "output_type": "stream",
     "text": [
      "\n",
      " LB \n",
      "      original_title    budget\n",
      "1151    Fear Clinic  0.921091\n",
      "\n",
      " HB \n",
      "          original_title       budget\n",
      "2244  The Warrior's Way  425000000.0\n"
     ]
    },
    {
     "data": {
      "text/plain": [
       "(None, None)"
      ]
     },
     "execution_count": 109,
     "metadata": {},
     "output_type": "execute_result"
    }
   ],
   "source": [
    "HB= df.sort_values(['budget'],ascending=False)\n",
    "HB=HB[['original_title','budget']]\n",
    "LB= df.sort_values(['budget'],ascending=True)\n",
    "LB=LB[['original_title','budget']]\n",
    "print('\\n LB \\n',LB.head(1)),print('\\n HB \\n',HB.head(1))"
   ]
  },
  {
   "cell_type": "markdown",
   "metadata": {},
   "source": [
    "###  Question # 4:"
   ]
  },
  {
   "cell_type": "markdown",
   "metadata": {},
   "source": [
    "### Which movie made the highest revenue and lowest as well?"
   ]
  },
  {
   "cell_type": "code",
   "execution_count": 111,
   "metadata": {},
   "outputs": [
    {
     "name": "stdout",
     "output_type": "stream",
     "text": [
      "\n",
      " LR \n",
      "        original_title   revenue\n",
      "5067  Shattered Glass  2.370705\n",
      "\n",
      " HR \n",
      "      original_title       revenue\n",
      "1386         Avatar  2.827124e+09\n"
     ]
    },
    {
     "data": {
      "text/plain": [
       "(None, None)"
      ]
     },
     "execution_count": 111,
     "metadata": {},
     "output_type": "execute_result"
    }
   ],
   "source": [
    "HR= df.sort_values(['revenue'],ascending=False)\n",
    "HR=HR[['original_title','revenue']]\n",
    "LR= df.sort_values(['revenue'],ascending=True)\n",
    "LR=LR[['original_title','revenue']]\n",
    "print('\\n LR \\n',LR.head(1)),print('\\n HR \\n',HR.head(1))"
   ]
  },
  {
   "cell_type": "markdown",
   "metadata": {},
   "source": [
    "###  Question # 5:"
   ]
  },
  {
   "cell_type": "markdown",
   "metadata": {},
   "source": [
    "### Movie with shorest and longest runtime?"
   ]
  },
  {
   "cell_type": "code",
   "execution_count": 112,
   "metadata": {},
   "outputs": [
    {
     "name": "stdout",
     "output_type": "stream",
     "text": [
      "\n",
      " Low_runtime \n",
      "      original_title  runtime\n",
      "4041          Taken    877.0\n",
      "\n",
      " High_runtime \n",
      "                             original_title  runtime\n",
      "3891  Scrat's Continental Crack-Up: Part 2      3.0\n"
     ]
    },
    {
     "data": {
      "text/plain": [
       "(None, None)"
      ]
     },
     "execution_count": 112,
     "metadata": {},
     "output_type": "execute_result"
    }
   ],
   "source": [
    "\n",
    "Low_runtime= df.sort_values(['runtime'],ascending=False)\n",
    "Low_runtime=Low_runtime[['original_title','runtime']]\n",
    "High_runtime= df.sort_values(['runtime'],ascending=True)\n",
    "High_runtime=High_runtime[['original_title','runtime']]\n",
    "print('\\n Low_runtime \\n',Low_runtime.head(1)),print('\\n High_runtime \\n',High_runtime.head(1))"
   ]
  },
  {
   "cell_type": "markdown",
   "metadata": {},
   "source": [
    "###  Question # 6:"
   ]
  },
  {
   "cell_type": "markdown",
   "metadata": {},
   "source": [
    "###  Which movie get the highest or lowest votes (Ratings)."
   ]
  },
  {
   "cell_type": "code",
   "execution_count": 113,
   "metadata": {},
   "outputs": [
    {
     "name": "stdout",
     "output_type": "stream",
     "text": [
      "\n",
      " Low_ratings \n",
      "                 original_title  vote_count\n",
      "7236  Chris Rock: Never Scared          10\n",
      "\n",
      " High_ratings \n",
      "      original_title  vote_count\n",
      "1919      Inception        9767\n"
     ]
    },
    {
     "data": {
      "text/plain": [
       "(None, None)"
      ]
     },
     "execution_count": 113,
     "metadata": {},
     "output_type": "execute_result"
    }
   ],
   "source": [
    "#Which movie get the highest or lowest votes (Ratings).\n",
    "Low_ratings= df.sort_values(['vote_count'],ascending=True)\n",
    "Low_ratings=Low_ratings[['original_title','vote_count']]\n",
    "High_ratings= df.sort_values(['vote_count'],ascending=False)\n",
    "High_ratings=High_ratings[['original_title','vote_count']]\n",
    "print('\\n Low_ratings \\n',Low_ratings.head(1)),print('\\n High_ratings \\n',High_ratings.head(1))"
   ]
  },
  {
   "cell_type": "markdown",
   "metadata": {},
   "source": [
    "###  Visulaization_part1   \n",
    "\n",
    "### Question # 7:"
   ]
  },
  {
   "cell_type": "markdown",
   "metadata": {},
   "source": [
    "###  which year has the highest release of movies?"
   ]
  },
  {
   "cell_type": "code",
   "execution_count": 159,
   "metadata": {},
   "outputs": [
    {
     "data": {
      "text/plain": [
       "Text(0, 0.5, 'Num Of Movies')"
      ]
     },
     "execution_count": 159,
     "metadata": {},
     "output_type": "execute_result"
    },
    {
     "data": {
      "image/png": "[encoded data removed]",
      "text/plain": [
       "<Figure size 864x720 with 1 Axes>"
      ]
     },
     "metadata": {},
     "output_type": "display_data"
    }
   ],
   "source": [
    "# Visulaization_part1\n",
    "#Which year has the highest release of movies?\n",
    "data=df.groupby('release_year').count()['id']\n",
    "\n",
    "#grouping films according to their release year then counting the total number of movies in each year.\n",
    "df.groupby('release_year').count()['id'].plot(xticks = np.arange(1960,2016,5))\n",
    "\n",
    "#figure settings\n",
    "sns.set(rc={'figure.figsize':(10,5)})\n",
    "plt.title(\"Number Of Movies Vs Year\",fontsize = 13)\n",
    "plt.xlabel('Release year',fontsize = 11)\n",
    "plt.ylabel('Num Of Movies',fontsize = 11)"
   ]
  },
  {
   "cell_type": "code",
   "execution_count": null,
   "metadata": {},
   "outputs": [],
   "source": []
  },
  {
   "cell_type": "markdown",
   "metadata": {},
   "source": [
    "###  Visulaization_part_2   \n",
    "\n",
    "### Question # 8:"
   ]
  },
  {
   "cell_type": "markdown",
   "metadata": {},
   "source": [
    "### Find Top 20 actors with the most appearances in films"
   ]
  },
  {
   "cell_type": "code",
   "execution_count": 160,
   "metadata": {},
   "outputs": [],
   "source": [
    "# Function to define the xaxis label angel of rotation\n",
    "def rot_xaxis_plot(i):\n",
    "    for item in ax.get_xticklabels():\n",
    "        item.set_rotation(i)\n",
    "    return ()"
   ]
  },
  {
   "cell_type": "code",
   "execution_count": 162,
   "metadata": {},
   "outputs": [
    {
     "name": "stderr",
     "output_type": "stream",
     "text": [
      "C:\\Users\\Mega Store\\anaconda3\\lib\\site-packages\\seaborn\\_decorators.py:36: FutureWarning: Pass the following variables as keyword args: x, y. From version 0.12, the only valid positional argument will be `data`, and passing other arguments without an explicit keyword will result in an error or misinterpretation.\n",
      "  warnings.warn(\n"
     ]
    },
    {
     "data": {
      "image/png": "[encoded data removed]",
      "text/plain": [
       "<Figure size 864x720 with 1 Axes>"
      ]
     },
     "metadata": {},
     "output_type": "display_data"
    }
   ],
   "source": [
    "\n",
    "\n",
    "#Creating a numpy array to store how many times each actor casted for movies\n",
    "\n",
    "actor_dict = {}\n",
    "\n",
    "actors = df[\"cast\"]\n",
    "actors = actors.str.split(\"|\")\n",
    "actors = np.array(actors)\n",
    "for actorList in actors:\n",
    "    for actor in actorList:\n",
    "        actor = actor.lstrip() \n",
    "        if actor not in actor_dict:\n",
    "            actor_dict[actor] = 1\n",
    "        else:\n",
    "            actor_dict[actor] += 1\n",
    "                \n",
    "# sort actors in descending order\n",
    "sorted_actor_dict = sorted(actor_dict.items(), key = operator.itemgetter(1), reverse = True)\n",
    "\n",
    "x_axis = list()\n",
    "y_axis = list()\n",
    "\n",
    "for item in sorted_actor_dict[0:20]:\n",
    "    x_axis.append(item[0])\n",
    "    y_axis.append(item[1])\n",
    "\n",
    "# Visualization settings\n",
    "sns.set(rc={'figure.figsize':(12,10)}, font_scale=1.4)\n",
    "ax = sns.barplot(x_axis, y_axis, palette=\"Set1\")\n",
    "ax.set(xlabel='Actor names', ylabel='Number of appearances', title = 'Top 20 actors based on the number of the appearances in movies')\n",
    "\n",
    "rot_xaxis_plot(90)\n",
    "    \n",
    "\n",
    "plt.show()"
   ]
  },
  {
   "cell_type": "markdown",
   "metadata": {},
   "source": [
    "###  Conclusions\n",
    "##### We can conclude from the above analysis that year 2014 was the greatest year of film production was 2014 (from year 1960 upto 2015) .            - Top 3 movie with high profits: Starwar, Avatar & Titanic the lowest 3 films in terms of profits are the warrior way, the Lone Ranger and the Alamo.   -The film with the highest budget was the Warrior way and lowest budget was Fear Clinic.                                                                                                   - The film with the highest revenue was shattered glass and lowest revenue was Avatar.                                                                                                        - The longest film duration was Taken and the shortest one was Scrat's continental crack-up part-2.                                                                                    - From figure No 1 we can conclude that film production increased gradualy starting from 1960 until 2014 reached its peak then decayed in 2015.        - My last finding was the most top 3 actors appeared in movies during this period was Robert Dinero, samuel Jackson and Bruce wills and in fact they deserve being leading Actors."
   ]
  },
  {
   "cell_type": "markdown",
   "metadata": {},
   "source": [
    "###  Limitations\n",
    "##### This analysis was done considering the movies produced between 1960 and 2015 with significant amount of profit of around 50 million dollar, which is not last updated data until 2021,results may differ accordingly. the dataset has some limitation regading the units of measurment of rutime and currency of the revenue, budget was not clearly stated in dataset and assumed to be US-Dollar and time measurment in minutes,  Dropping some rows with missing values and data imputation with mean values to complete the missing values in budget and revenue columns may offset the results. however, dataset was very rich in information. I beleive there much more work and investigation still need to be conducted to useful results.\n"
   ]
  },
  {
   "cell_type": "code",
   "execution_count": null,
   "metadata": {},
   "outputs": [],
   "source": [
    "from subprocess import call\n",
    "call(['python', '-m', 'nbconvert', 'Udacity_Project_data_analysis_rev.1.ipynb'])"
   ]
  }
 ],
 "metadata": {
  "kernelspec": {
   "display_name": "Python 3",
   "language": "python",
   "name": "python3"
  },
  "language_info": {
   "codemirror_mode": {
    "name": "ipython",
    "version": 3
   },
   "file_extension": ".py",
   "mimetype": "text/x-python",
   "name": "python",
   "nbconvert_exporter": "python",
   "pygments_lexer": "ipython3",
   "version": "3.6.3"
  }
 },
 "nbformat": 4,
 "nbformat_minor": 2
}
